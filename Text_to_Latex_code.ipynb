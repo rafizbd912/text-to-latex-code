{
  "nbformat": 4,
  "nbformat_minor": 0,
  "metadata": {
    "colab": {
      "provenance": []
    },
    "kernelspec": {
      "name": "python3",
      "display_name": "Python 3"
    },
    "language_info": {
      "name": "python"
    }
  },
  "cells": [
    {
      "cell_type": "code",
      "execution_count": null,
      "metadata": {
        "id": "AZecVD3_XV04"
      },
      "outputs": [],
      "source": [
        "from google.colab import files\n",
        "\n",
        "uploaded = files.upload()"
      ]
    },
    {
      "cell_type": "code",
      "source": [
        "import pandas as pd\n",
        "from sklearn.feature_extraction.text import TfidfVectorizer\n",
        "from sklearn.pipeline import Pipeline\n",
        "from sklearn.model_selection import train_test_split\n",
        "from sklearn.metrics import accuracy_score\n",
        "from sklearn.naive_bayes import MultinomialNB\n",
        "\n",
        "# Load the data from the Excel file\n",
        "data = pd.read_excel('training_data.xlsx')\n",
        "\n",
        "# Split the data into training and testing sets\n",
        "train_data, test_data = train_test_split(data, test_size=0.5, random_state=42)\n",
        "\n",
        "# Define the pipeline for the machine learning model\n",
        "pipeline = Pipeline([\n",
        "    ('tfidf', TfidfVectorizer()),\n",
        "    ('clf', MultinomialNB(alpha=0.01))\n",
        "])\n",
        "\n",
        "# Fit the pipeline to the training data\n",
        "pipeline.fit(train_data['input'], train_data['output'])\n",
        "\n",
        "# Make predictions on the test data\n",
        "test_predictions = pipeline.predict(test_data['input'])\n",
        "\n",
        "# Calculate the accuracy of the model on the test data\n",
        "test_accuracy = accuracy_score(test_data['output'], test_predictions)\n",
        "\n",
        "# Print the accuracy of the model on the test data\n",
        "print(\"Test accuracy: {:.2f}%\".format(test_accuracy * 100))\n",
        "\n",
        "# Print the input and output for each test case\n",
        "print(\"Test cases:\")\n",
        "for i, row in test_data.iterrows():\n",
        "    input_text = row['input']\n",
        "    expected_output = row['output']\n",
        "    predicted_output = pipeline.predict([input_text])[0]\n",
        "    print(f\"Input: {input_text}\")\n",
        "    print(f\"Expected output: {expected_output}\")\n",
        "    print(f\"Predicted output: {predicted_output}\\n\")"
      ],
      "metadata": {
        "id": "7pWvLGPjXXHx"
      },
      "execution_count": null,
      "outputs": []
    }
  ]
}